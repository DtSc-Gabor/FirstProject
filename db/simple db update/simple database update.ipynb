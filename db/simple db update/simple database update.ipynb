{
 "cells": [
  {
   "cell_type": "markdown",
   "id": "8eb77002",
   "metadata": {},
   "source": [
    "### simple Database update"
   ]
  },
  {
   "cell_type": "code",
   "execution_count": 1,
   "id": "34ad6f06",
   "metadata": {},
   "outputs": [],
   "source": [
    "import pandas as pd"
   ]
  },
  {
   "cell_type": "code",
   "execution_count": 2,
   "id": "ef6e26c5",
   "metadata": {},
   "outputs": [],
   "source": [
    "#load in the *.csv that gonna be updated\n",
    "db_house_raw = pd.read_csv('C:/Users/MSI GF63/Desktop/Jupyter Udemy Course/Exercises/03_Regressions'+ \n",
    "                           '/02_Multiple Linear Regression/exercise/real_estate_price_size_year.csv')"
   ]
  },
  {
   "cell_type": "code",
   "execution_count": 3,
   "id": "26c4160e",
   "metadata": {},
   "outputs": [],
   "source": [
    "db_house = db_house_raw.copy()"
   ]
  },
  {
   "cell_type": "code",
   "execution_count": 4,
   "id": "31500f99",
   "metadata": {},
   "outputs": [
    {
     "data": {
      "text/html": [
       "<div>\n",
       "<style scoped>\n",
       "    .dataframe tbody tr th:only-of-type {\n",
       "        vertical-align: middle;\n",
       "    }\n",
       "\n",
       "    .dataframe tbody tr th {\n",
       "        vertical-align: top;\n",
       "    }\n",
       "\n",
       "    .dataframe thead th {\n",
       "        text-align: right;\n",
       "    }\n",
       "</style>\n",
       "<table border=\"1\" class=\"dataframe\">\n",
       "  <thead>\n",
       "    <tr style=\"text-align: right;\">\n",
       "      <th></th>\n",
       "      <th>price</th>\n",
       "      <th>size</th>\n",
       "      <th>year</th>\n",
       "    </tr>\n",
       "  </thead>\n",
       "  <tbody>\n",
       "    <tr>\n",
       "      <th>0</th>\n",
       "      <td>234314.144</td>\n",
       "      <td>643.09</td>\n",
       "      <td>2015</td>\n",
       "    </tr>\n",
       "    <tr>\n",
       "      <th>1</th>\n",
       "      <td>228581.528</td>\n",
       "      <td>656.22</td>\n",
       "      <td>2009</td>\n",
       "    </tr>\n",
       "    <tr>\n",
       "      <th>2</th>\n",
       "      <td>281626.336</td>\n",
       "      <td>487.29</td>\n",
       "      <td>2018</td>\n",
       "    </tr>\n",
       "    <tr>\n",
       "      <th>3</th>\n",
       "      <td>401255.608</td>\n",
       "      <td>1504.75</td>\n",
       "      <td>2015</td>\n",
       "    </tr>\n",
       "    <tr>\n",
       "      <th>4</th>\n",
       "      <td>458674.256</td>\n",
       "      <td>1275.46</td>\n",
       "      <td>2009</td>\n",
       "    </tr>\n",
       "  </tbody>\n",
       "</table>\n",
       "</div>"
      ],
      "text/plain": [
       "        price     size  year\n",
       "0  234314.144   643.09  2015\n",
       "1  228581.528   656.22  2009\n",
       "2  281626.336   487.29  2018\n",
       "3  401255.608  1504.75  2015\n",
       "4  458674.256  1275.46  2009"
      ]
     },
     "execution_count": 4,
     "metadata": {},
     "output_type": "execute_result"
    }
   ],
   "source": [
    "db_house.head()"
   ]
  },
  {
   "cell_type": "code",
   "execution_count": 5,
   "id": "e657a053",
   "metadata": {},
   "outputs": [],
   "source": [
    "import seaborn as sns"
   ]
  },
  {
   "cell_type": "code",
   "execution_count": 6,
   "id": "99f70ca7",
   "metadata": {
    "scrolled": true
   },
   "outputs": [
    {
     "data": {
      "text/plain": [
       "<seaborn.axisgrid.FacetGrid at 0x282e7d33100>"
      ]
     },
     "execution_count": 6,
     "metadata": {},
     "output_type": "execute_result"
    },
    {
     "data": {
      "image/png": "[encoded data removed]",
      "text/plain": [
       "<Figure size 500x500 with 1 Axes>"
      ]
     },
     "metadata": {},
     "output_type": "display_data"
    }
   ],
   "source": [
    "sns.displot(db_house['price'])"
   ]
  },
  {
   "cell_type": "markdown",
   "id": "4265a46f",
   "metadata": {},
   "source": [
    "### Create bedroom column"
   ]
  },
  {
   "cell_type": "code",
   "execution_count": 7,
   "id": "398d7c52",
   "metadata": {},
   "outputs": [],
   "source": [
    "import random\n",
    "\n",
    "def assign_bedrooms(price):\n",
    "    if price <= int(\n",
    "        db_house['price'].mean()) - int(0.5 *db_house['price'].std()):\n",
    "        return random.randint(1,2)\n",
    "    elif price <= int(\n",
    "        db_house['price'].mean()) + int(0.2 *db_house['price'].std()):\n",
    "        return random.randint(1,3)\n",
    "    elif price <= int(\n",
    "        db_house['price'].mean()) + int(1.2 *db_house['price'].std()):\n",
    "        return random.randint(2,3)\n",
    "    else:\n",
    "        return 4"
   ]
  },
  {
   "cell_type": "code",
   "execution_count": 8,
   "id": "cf495ee8",
   "metadata": {},
   "outputs": [],
   "source": [
    "db_house['bedrooms'] = db_house['price'].apply(assign_bedrooms)"
   ]
  },
  {
   "cell_type": "code",
   "execution_count": 9,
   "id": "d207e7a6",
   "metadata": {},
   "outputs": [],
   "source": [
    "import matplotlib.pyplot as plt"
   ]
  },
  {
   "cell_type": "code",
   "execution_count": 10,
   "id": "d5e8c8bb",
   "metadata": {
    "scrolled": true
   },
   "outputs": [
    {
     "data": {
      "text/plain": [
       "<matplotlib.collections.PathCollection at 0x282e85fbfa0>"
      ]
     },
     "execution_count": 10,
     "metadata": {},
     "output_type": "execute_result"
    }
   ],
   "source": [
    "plt.scatter(db_house['bedrooms'], db_house['price'])"
   ]
  },
  {
   "cell_type": "markdown",
   "id": "abb75c46",
   "metadata": {},
   "source": [
    "### Create pool_available column"
   ]
  },
  {
   "cell_type": "code",
   "execution_count": 11,
   "id": "7f0eaaae",
   "metadata": {},
   "outputs": [],
   "source": [
    "db1 = db_house.query('bedrooms == 1') # 240000 up pool"
   ]
  },
  {
   "cell_type": "code",
   "execution_count": 12,
   "id": "a0d796bb",
   "metadata": {},
   "outputs": [],
   "source": [
    "db2 = db_house.query('bedrooms == 2') # 300000"
   ]
  },
  {
   "cell_type": "code",
   "execution_count": 13,
   "id": "4076c785",
   "metadata": {},
   "outputs": [],
   "source": [
    "db3 = db_house.query('bedrooms == 3') # 350000"
   ]
  },
  {
   "cell_type": "code",
   "execution_count": 14,
   "id": "6820eee7",
   "metadata": {},
   "outputs": [],
   "source": [
    "db4 = db_house.query('bedrooms == 4') # 420000"
   ]
  },
  {
   "cell_type": "code",
   "execution_count": 15,
   "id": "46fc9450",
   "metadata": {},
   "outputs": [],
   "source": [
    "def db1_pool_add(price):\n",
    "    if price >= 240000:\n",
    "        return 1\n",
    "    else:\n",
    "        return 0\n",
    "def db2_pool_add(price):\n",
    "    if price >= 300000:\n",
    "        return 1\n",
    "    else:\n",
    "        return 0\n",
    "def db3_pool_add(price):\n",
    "    if price >= 350000:\n",
    "        return 1\n",
    "    else:\n",
    "        return 0\n",
    "def db4_pool_add(price):\n",
    "    if price >= 420000:\n",
    "        return 1\n",
    "    else:\n",
    "        return 0"
   ]
  },
  {
   "cell_type": "code",
   "execution_count": 16,
   "id": "6848aa18",
   "metadata": {
    "scrolled": true
   },
   "outputs": [
    {
     "name": "stderr",
     "output_type": "stream",
     "text": [
      "C:\\Users\\MSI GF63\\AppData\\Local\\Temp\\ipykernel_2860\\52159373.py:1: SettingWithCopyWarning: \n",
      "A value is trying to be set on a copy of a slice from a DataFrame.\n",
      "Try using .loc[row_indexer,col_indexer] = value instead\n",
      "\n",
      "See the caveats in the documentation: https://pandas.pydata.org/pandas-docs/stable/user_guide/indexing.html#returning-a-view-versus-a-copy\n",
      "  db1['pool_available'] = db1['price'].apply(db1_pool_add)\n",
      "C:\\Users\\MSI GF63\\AppData\\Local\\Temp\\ipykernel_2860\\52159373.py:2: SettingWithCopyWarning: \n",
      "A value is trying to be set on a copy of a slice from a DataFrame.\n",
      "Try using .loc[row_indexer,col_indexer] = value instead\n",
      "\n",
      "See the caveats in the documentation: https://pandas.pydata.org/pandas-docs/stable/user_guide/indexing.html#returning-a-view-versus-a-copy\n",
      "  db2['pool_available'] = db2['price'].apply(db2_pool_add)\n",
      "C:\\Users\\MSI GF63\\AppData\\Local\\Temp\\ipykernel_2860\\52159373.py:3: SettingWithCopyWarning: \n",
      "A value is trying to be set on a copy of a slice from a DataFrame.\n",
      "Try using .loc[row_indexer,col_indexer] = value instead\n",
      "\n",
      "See the caveats in the documentation: https://pandas.pydata.org/pandas-docs/stable/user_guide/indexing.html#returning-a-view-versus-a-copy\n",
      "  db3['pool_available'] = db3['price'].apply(db3_pool_add)\n",
      "C:\\Users\\MSI GF63\\AppData\\Local\\Temp\\ipykernel_2860\\52159373.py:4: SettingWithCopyWarning: \n",
      "A value is trying to be set on a copy of a slice from a DataFrame.\n",
      "Try using .loc[row_indexer,col_indexer] = value instead\n",
      "\n",
      "See the caveats in the documentation: https://pandas.pydata.org/pandas-docs/stable/user_guide/indexing.html#returning-a-view-versus-a-copy\n",
      "  db4['pool_available'] = db4['price'].apply(db4_pool_add)\n"
     ]
    }
   ],
   "source": [
    "db1['pool_available'] = db1['price'].apply(db1_pool_add)\n",
    "db2['pool_available'] = db2['price'].apply(db2_pool_add)\n",
    "db3['pool_available'] = db3['price'].apply(db3_pool_add)\n",
    "db4['pool_available'] = db4['price'].apply(db4_pool_add)"
   ]
  },
  {
   "cell_type": "code",
   "execution_count": 17,
   "id": "548feb12",
   "metadata": {
    "scrolled": true
   },
   "outputs": [],
   "source": [
    "db_house_with_pool = pd.DataFrame()\n",
    "db_house_with_pool = pd.concat([db1, db2, db3, db4],ignore_index=False,)\n",
    "db_house_updated = db_house_with_pool.sort_index()"
   ]
  },
  {
   "cell_type": "code",
   "execution_count": 18,
   "id": "326bc2a2",
   "metadata": {
    "scrolled": true
   },
   "outputs": [
    {
     "data": {
      "text/html": [
       "<div>\n",
       "<style scoped>\n",
       "    .dataframe tbody tr th:only-of-type {\n",
       "        vertical-align: middle;\n",
       "    }\n",
       "\n",
       "    .dataframe tbody tr th {\n",
       "        vertical-align: top;\n",
       "    }\n",
       "\n",
       "    .dataframe thead th {\n",
       "        text-align: right;\n",
       "    }\n",
       "</style>\n",
       "<table border=\"1\" class=\"dataframe\">\n",
       "  <thead>\n",
       "    <tr style=\"text-align: right;\">\n",
       "      <th></th>\n",
       "      <th>price</th>\n",
       "      <th>size</th>\n",
       "      <th>year</th>\n",
       "      <th>bedrooms</th>\n",
       "      <th>pool_available</th>\n",
       "    </tr>\n",
       "  </thead>\n",
       "  <tbody>\n",
       "    <tr>\n",
       "      <th>0</th>\n",
       "      <td>234314.144</td>\n",
       "      <td>643.09</td>\n",
       "      <td>2015</td>\n",
       "      <td>1</td>\n",
       "      <td>0</td>\n",
       "    </tr>\n",
       "    <tr>\n",
       "      <th>1</th>\n",
       "      <td>228581.528</td>\n",
       "      <td>656.22</td>\n",
       "      <td>2009</td>\n",
       "      <td>1</td>\n",
       "      <td>0</td>\n",
       "    </tr>\n",
       "    <tr>\n",
       "      <th>2</th>\n",
       "      <td>281626.336</td>\n",
       "      <td>487.29</td>\n",
       "      <td>2018</td>\n",
       "      <td>1</td>\n",
       "      <td>1</td>\n",
       "    </tr>\n",
       "    <tr>\n",
       "      <th>3</th>\n",
       "      <td>401255.608</td>\n",
       "      <td>1504.75</td>\n",
       "      <td>2015</td>\n",
       "      <td>4</td>\n",
       "      <td>0</td>\n",
       "    </tr>\n",
       "    <tr>\n",
       "      <th>4</th>\n",
       "      <td>458674.256</td>\n",
       "      <td>1275.46</td>\n",
       "      <td>2009</td>\n",
       "      <td>4</td>\n",
       "      <td>1</td>\n",
       "    </tr>\n",
       "    <tr>\n",
       "      <th>...</th>\n",
       "      <td>...</td>\n",
       "      <td>...</td>\n",
       "      <td>...</td>\n",
       "      <td>...</td>\n",
       "      <td>...</td>\n",
       "    </tr>\n",
       "    <tr>\n",
       "      <th>95</th>\n",
       "      <td>252460.400</td>\n",
       "      <td>549.80</td>\n",
       "      <td>2009</td>\n",
       "      <td>2</td>\n",
       "      <td>0</td>\n",
       "    </tr>\n",
       "    <tr>\n",
       "      <th>96</th>\n",
       "      <td>310522.592</td>\n",
       "      <td>1037.44</td>\n",
       "      <td>2009</td>\n",
       "      <td>2</td>\n",
       "      <td>1</td>\n",
       "    </tr>\n",
       "    <tr>\n",
       "      <th>97</th>\n",
       "      <td>383635.568</td>\n",
       "      <td>1504.75</td>\n",
       "      <td>2006</td>\n",
       "      <td>2</td>\n",
       "      <td>1</td>\n",
       "    </tr>\n",
       "    <tr>\n",
       "      <th>98</th>\n",
       "      <td>225145.248</td>\n",
       "      <td>648.29</td>\n",
       "      <td>2015</td>\n",
       "      <td>1</td>\n",
       "      <td>0</td>\n",
       "    </tr>\n",
       "    <tr>\n",
       "      <th>99</th>\n",
       "      <td>274922.856</td>\n",
       "      <td>705.29</td>\n",
       "      <td>2006</td>\n",
       "      <td>1</td>\n",
       "      <td>1</td>\n",
       "    </tr>\n",
       "  </tbody>\n",
       "</table>\n",
       "<p>100 rows × 5 columns</p>\n",
       "</div>"
      ],
      "text/plain": [
       "         price     size  year  bedrooms  pool_available\n",
       "0   234314.144   643.09  2015         1               0\n",
       "1   228581.528   656.22  2009         1               0\n",
       "2   281626.336   487.29  2018         1               1\n",
       "3   401255.608  1504.75  2015         4               0\n",
       "4   458674.256  1275.46  2009         4               1\n",
       "..         ...      ...   ...       ...             ...\n",
       "95  252460.400   549.80  2009         2               0\n",
       "96  310522.592  1037.44  2009         2               1\n",
       "97  383635.568  1504.75  2006         2               1\n",
       "98  225145.248   648.29  2015         1               0\n",
       "99  274922.856   705.29  2006         1               1\n",
       "\n",
       "[100 rows x 5 columns]"
      ]
     },
     "execution_count": 18,
     "metadata": {},
     "output_type": "execute_result"
    }
   ],
   "source": [
    "db_house_updated"
   ]
  },
  {
   "cell_type": "code",
   "execution_count": 19,
   "id": "29b0ae49",
   "metadata": {
    "scrolled": true
   },
   "outputs": [
    {
     "data": {
      "text/plain": [
       "<matplotlib.collections.PathCollection at 0x282e8618640>"
      ]
     },
     "execution_count": 19,
     "metadata": {},
     "output_type": "execute_result"
    }
   ],
   "source": [
    "plt.scatter(db_house_updated['bedrooms'], db_house['price'], c = db_house_updated['pool_available'])"
   ]
  },
  {
   "cell_type": "markdown",
   "id": "801c7123",
   "metadata": {},
   "source": [
    "garage"
   ]
  },
  {
   "cell_type": "code",
   "execution_count": 20,
   "id": "0d09561d",
   "metadata": {},
   "outputs": [
    {
     "data": {
      "text/html": [
       "<div>\n",
       "<style scoped>\n",
       "    .dataframe tbody tr th:only-of-type {\n",
       "        vertical-align: middle;\n",
       "    }\n",
       "\n",
       "    .dataframe tbody tr th {\n",
       "        vertical-align: top;\n",
       "    }\n",
       "\n",
       "    .dataframe thead th {\n",
       "        text-align: right;\n",
       "    }\n",
       "</style>\n",
       "<table border=\"1\" class=\"dataframe\">\n",
       "  <thead>\n",
       "    <tr style=\"text-align: right;\">\n",
       "      <th></th>\n",
       "      <th>price</th>\n",
       "      <th>size</th>\n",
       "      <th>year</th>\n",
       "      <th>bedrooms</th>\n",
       "      <th>pool_available</th>\n",
       "    </tr>\n",
       "  </thead>\n",
       "  <tbody>\n",
       "    <tr>\n",
       "      <th>0</th>\n",
       "      <td>234314.144</td>\n",
       "      <td>643.09</td>\n",
       "      <td>2015</td>\n",
       "      <td>1</td>\n",
       "      <td>0</td>\n",
       "    </tr>\n",
       "    <tr>\n",
       "      <th>1</th>\n",
       "      <td>228581.528</td>\n",
       "      <td>656.22</td>\n",
       "      <td>2009</td>\n",
       "      <td>1</td>\n",
       "      <td>0</td>\n",
       "    </tr>\n",
       "    <tr>\n",
       "      <th>2</th>\n",
       "      <td>281626.336</td>\n",
       "      <td>487.29</td>\n",
       "      <td>2018</td>\n",
       "      <td>1</td>\n",
       "      <td>1</td>\n",
       "    </tr>\n",
       "    <tr>\n",
       "      <th>3</th>\n",
       "      <td>401255.608</td>\n",
       "      <td>1504.75</td>\n",
       "      <td>2015</td>\n",
       "      <td>4</td>\n",
       "      <td>0</td>\n",
       "    </tr>\n",
       "    <tr>\n",
       "      <th>4</th>\n",
       "      <td>458674.256</td>\n",
       "      <td>1275.46</td>\n",
       "      <td>2009</td>\n",
       "      <td>4</td>\n",
       "      <td>1</td>\n",
       "    </tr>\n",
       "    <tr>\n",
       "      <th>...</th>\n",
       "      <td>...</td>\n",
       "      <td>...</td>\n",
       "      <td>...</td>\n",
       "      <td>...</td>\n",
       "      <td>...</td>\n",
       "    </tr>\n",
       "    <tr>\n",
       "      <th>95</th>\n",
       "      <td>252460.400</td>\n",
       "      <td>549.80</td>\n",
       "      <td>2009</td>\n",
       "      <td>2</td>\n",
       "      <td>0</td>\n",
       "    </tr>\n",
       "    <tr>\n",
       "      <th>96</th>\n",
       "      <td>310522.592</td>\n",
       "      <td>1037.44</td>\n",
       "      <td>2009</td>\n",
       "      <td>2</td>\n",
       "      <td>1</td>\n",
       "    </tr>\n",
       "    <tr>\n",
       "      <th>97</th>\n",
       "      <td>383635.568</td>\n",
       "      <td>1504.75</td>\n",
       "      <td>2006</td>\n",
       "      <td>2</td>\n",
       "      <td>1</td>\n",
       "    </tr>\n",
       "    <tr>\n",
       "      <th>98</th>\n",
       "      <td>225145.248</td>\n",
       "      <td>648.29</td>\n",
       "      <td>2015</td>\n",
       "      <td>1</td>\n",
       "      <td>0</td>\n",
       "    </tr>\n",
       "    <tr>\n",
       "      <th>99</th>\n",
       "      <td>274922.856</td>\n",
       "      <td>705.29</td>\n",
       "      <td>2006</td>\n",
       "      <td>1</td>\n",
       "      <td>1</td>\n",
       "    </tr>\n",
       "  </tbody>\n",
       "</table>\n",
       "<p>100 rows × 5 columns</p>\n",
       "</div>"
      ],
      "text/plain": [
       "         price     size  year  bedrooms  pool_available\n",
       "0   234314.144   643.09  2015         1               0\n",
       "1   228581.528   656.22  2009         1               0\n",
       "2   281626.336   487.29  2018         1               1\n",
       "3   401255.608  1504.75  2015         4               0\n",
       "4   458674.256  1275.46  2009         4               1\n",
       "..         ...      ...   ...       ...             ...\n",
       "95  252460.400   549.80  2009         2               0\n",
       "96  310522.592  1037.44  2009         2               1\n",
       "97  383635.568  1504.75  2006         2               1\n",
       "98  225145.248   648.29  2015         1               0\n",
       "99  274922.856   705.29  2006         1               1\n",
       "\n",
       "[100 rows x 5 columns]"
      ]
     },
     "execution_count": 20,
     "metadata": {},
     "output_type": "execute_result"
    }
   ],
   "source": [
    "db_house_updated"
   ]
  },
  {
   "cell_type": "code",
   "execution_count": 21,
   "id": "cb954f50",
   "metadata": {},
   "outputs": [],
   "source": [
    "def db1_garage_add(price):\n",
    "    if 200000 <= price <= 240000:\n",
    "        return 1\n",
    "    else:\n",
    "        return 0\n",
    "def db2_garage_add(price):\n",
    "    if 270000 <= price <= 300000:\n",
    "        return 1\n",
    "    else:\n",
    "        return 0\n",
    "def db3_garage_add(price):\n",
    "    if 340000 <= price <= 360000:\n",
    "        return 1\n",
    "    else:\n",
    "        return 0\n",
    "def db4_garage_add(price):\n",
    "    if 420000 <= price <= 460000:\n",
    "        return 1\n",
    "    else:\n",
    "        return 0"
   ]
  },
  {
   "cell_type": "code",
   "execution_count": 22,
   "id": "4745ce49",
   "metadata": {
    "scrolled": true
   },
   "outputs": [
    {
     "name": "stderr",
     "output_type": "stream",
     "text": [
      "C:\\Users\\MSI GF63\\AppData\\Local\\Temp\\ipykernel_2860\\4177046460.py:1: SettingWithCopyWarning: \n",
      "A value is trying to be set on a copy of a slice from a DataFrame.\n",
      "Try using .loc[row_indexer,col_indexer] = value instead\n",
      "\n",
      "See the caveats in the documentation: https://pandas.pydata.org/pandas-docs/stable/user_guide/indexing.html#returning-a-view-versus-a-copy\n",
      "  db1['garage'] = db1['price'].apply(db1_garage_add)\n",
      "C:\\Users\\MSI GF63\\AppData\\Local\\Temp\\ipykernel_2860\\4177046460.py:2: SettingWithCopyWarning: \n",
      "A value is trying to be set on a copy of a slice from a DataFrame.\n",
      "Try using .loc[row_indexer,col_indexer] = value instead\n",
      "\n",
      "See the caveats in the documentation: https://pandas.pydata.org/pandas-docs/stable/user_guide/indexing.html#returning-a-view-versus-a-copy\n",
      "  db2['garage'] = db2['price'].apply(db2_garage_add)\n",
      "C:\\Users\\MSI GF63\\AppData\\Local\\Temp\\ipykernel_2860\\4177046460.py:3: SettingWithCopyWarning: \n",
      "A value is trying to be set on a copy of a slice from a DataFrame.\n",
      "Try using .loc[row_indexer,col_indexer] = value instead\n",
      "\n",
      "See the caveats in the documentation: https://pandas.pydata.org/pandas-docs/stable/user_guide/indexing.html#returning-a-view-versus-a-copy\n",
      "  db3['garage'] = db3['price'].apply(db3_garage_add)\n",
      "C:\\Users\\MSI GF63\\AppData\\Local\\Temp\\ipykernel_2860\\4177046460.py:4: SettingWithCopyWarning: \n",
      "A value is trying to be set on a copy of a slice from a DataFrame.\n",
      "Try using .loc[row_indexer,col_indexer] = value instead\n",
      "\n",
      "See the caveats in the documentation: https://pandas.pydata.org/pandas-docs/stable/user_guide/indexing.html#returning-a-view-versus-a-copy\n",
      "  db4['garage'] = db4['price'].apply(db4_garage_add)\n"
     ]
    }
   ],
   "source": [
    "db1['garage'] = db1['price'].apply(db1_garage_add)\n",
    "db2['garage'] = db2['price'].apply(db2_garage_add)\n",
    "db3['garage'] = db3['price'].apply(db3_garage_add)\n",
    "db4['garage'] = db4['price'].apply(db4_garage_add)"
   ]
  },
  {
   "cell_type": "code",
   "execution_count": 23,
   "id": "98e34f5c",
   "metadata": {},
   "outputs": [],
   "source": [
    "db_house_with_garage = pd.DataFrame()\n",
    "db_house_with_garage = pd.concat([db1, db2, db3, db4],ignore_index=False,)\n",
    "db_house_updated2 = db_house_with_garage.sort_index()"
   ]
  },
  {
   "cell_type": "code",
   "execution_count": 24,
   "id": "e491e404",
   "metadata": {},
   "outputs": [
    {
     "data": {
      "text/html": [
       "<div>\n",
       "<style scoped>\n",
       "    .dataframe tbody tr th:only-of-type {\n",
       "        vertical-align: middle;\n",
       "    }\n",
       "\n",
       "    .dataframe tbody tr th {\n",
       "        vertical-align: top;\n",
       "    }\n",
       "\n",
       "    .dataframe thead th {\n",
       "        text-align: right;\n",
       "    }\n",
       "</style>\n",
       "<table border=\"1\" class=\"dataframe\">\n",
       "  <thead>\n",
       "    <tr style=\"text-align: right;\">\n",
       "      <th></th>\n",
       "      <th>price</th>\n",
       "      <th>size</th>\n",
       "      <th>year</th>\n",
       "      <th>bedrooms</th>\n",
       "      <th>pool_available</th>\n",
       "      <th>garage</th>\n",
       "    </tr>\n",
       "  </thead>\n",
       "  <tbody>\n",
       "    <tr>\n",
       "      <th>0</th>\n",
       "      <td>234314.144</td>\n",
       "      <td>643.09</td>\n",
       "      <td>2015</td>\n",
       "      <td>1</td>\n",
       "      <td>0</td>\n",
       "      <td>1</td>\n",
       "    </tr>\n",
       "    <tr>\n",
       "      <th>1</th>\n",
       "      <td>228581.528</td>\n",
       "      <td>656.22</td>\n",
       "      <td>2009</td>\n",
       "      <td>1</td>\n",
       "      <td>0</td>\n",
       "      <td>1</td>\n",
       "    </tr>\n",
       "    <tr>\n",
       "      <th>2</th>\n",
       "      <td>281626.336</td>\n",
       "      <td>487.29</td>\n",
       "      <td>2018</td>\n",
       "      <td>1</td>\n",
       "      <td>1</td>\n",
       "      <td>0</td>\n",
       "    </tr>\n",
       "    <tr>\n",
       "      <th>3</th>\n",
       "      <td>401255.608</td>\n",
       "      <td>1504.75</td>\n",
       "      <td>2015</td>\n",
       "      <td>4</td>\n",
       "      <td>0</td>\n",
       "      <td>0</td>\n",
       "    </tr>\n",
       "    <tr>\n",
       "      <th>4</th>\n",
       "      <td>458674.256</td>\n",
       "      <td>1275.46</td>\n",
       "      <td>2009</td>\n",
       "      <td>4</td>\n",
       "      <td>1</td>\n",
       "      <td>1</td>\n",
       "    </tr>\n",
       "    <tr>\n",
       "      <th>...</th>\n",
       "      <td>...</td>\n",
       "      <td>...</td>\n",
       "      <td>...</td>\n",
       "      <td>...</td>\n",
       "      <td>...</td>\n",
       "      <td>...</td>\n",
       "    </tr>\n",
       "    <tr>\n",
       "      <th>95</th>\n",
       "      <td>252460.400</td>\n",
       "      <td>549.80</td>\n",
       "      <td>2009</td>\n",
       "      <td>2</td>\n",
       "      <td>0</td>\n",
       "      <td>0</td>\n",
       "    </tr>\n",
       "    <tr>\n",
       "      <th>96</th>\n",
       "      <td>310522.592</td>\n",
       "      <td>1037.44</td>\n",
       "      <td>2009</td>\n",
       "      <td>2</td>\n",
       "      <td>1</td>\n",
       "      <td>0</td>\n",
       "    </tr>\n",
       "    <tr>\n",
       "      <th>97</th>\n",
       "      <td>383635.568</td>\n",
       "      <td>1504.75</td>\n",
       "      <td>2006</td>\n",
       "      <td>2</td>\n",
       "      <td>1</td>\n",
       "      <td>0</td>\n",
       "    </tr>\n",
       "    <tr>\n",
       "      <th>98</th>\n",
       "      <td>225145.248</td>\n",
       "      <td>648.29</td>\n",
       "      <td>2015</td>\n",
       "      <td>1</td>\n",
       "      <td>0</td>\n",
       "      <td>1</td>\n",
       "    </tr>\n",
       "    <tr>\n",
       "      <th>99</th>\n",
       "      <td>274922.856</td>\n",
       "      <td>705.29</td>\n",
       "      <td>2006</td>\n",
       "      <td>1</td>\n",
       "      <td>1</td>\n",
       "      <td>0</td>\n",
       "    </tr>\n",
       "  </tbody>\n",
       "</table>\n",
       "<p>100 rows × 6 columns</p>\n",
       "</div>"
      ],
      "text/plain": [
       "         price     size  year  bedrooms  pool_available  garage\n",
       "0   234314.144   643.09  2015         1               0       1\n",
       "1   228581.528   656.22  2009         1               0       1\n",
       "2   281626.336   487.29  2018         1               1       0\n",
       "3   401255.608  1504.75  2015         4               0       0\n",
       "4   458674.256  1275.46  2009         4               1       1\n",
       "..         ...      ...   ...       ...             ...     ...\n",
       "95  252460.400   549.80  2009         2               0       0\n",
       "96  310522.592  1037.44  2009         2               1       0\n",
       "97  383635.568  1504.75  2006         2               1       0\n",
       "98  225145.248   648.29  2015         1               0       1\n",
       "99  274922.856   705.29  2006         1               1       0\n",
       "\n",
       "[100 rows x 6 columns]"
      ]
     },
     "execution_count": 24,
     "metadata": {},
     "output_type": "execute_result"
    }
   ],
   "source": [
    "db_house_updated2"
   ]
  },
  {
   "cell_type": "code",
   "execution_count": 25,
   "id": "b5ab965d",
   "metadata": {
    "scrolled": true
   },
   "outputs": [],
   "source": [
    "db_house_updated2['pool_available'] =  db_house_updated2['pool_available'].replace(to_replace={0: 'no', 1: 'yes'})"
   ]
  },
  {
   "cell_type": "code",
   "execution_count": 26,
   "id": "65dcd451",
   "metadata": {},
   "outputs": [],
   "source": [
    "db_house_updated2['garage'] =  db_house_updated2['garage'].replace(to_replace={0: 'no', 1: 'yes'})"
   ]
  },
  {
   "cell_type": "code",
   "execution_count": 27,
   "id": "fa58d54d",
   "metadata": {
    "scrolled": false
   },
   "outputs": [
    {
     "data": {
      "text/html": [
       "<div>\n",
       "<style scoped>\n",
       "    .dataframe tbody tr th:only-of-type {\n",
       "        vertical-align: middle;\n",
       "    }\n",
       "\n",
       "    .dataframe tbody tr th {\n",
       "        vertical-align: top;\n",
       "    }\n",
       "\n",
       "    .dataframe thead th {\n",
       "        text-align: right;\n",
       "    }\n",
       "</style>\n",
       "<table border=\"1\" class=\"dataframe\">\n",
       "  <thead>\n",
       "    <tr style=\"text-align: right;\">\n",
       "      <th></th>\n",
       "      <th>price</th>\n",
       "      <th>size</th>\n",
       "      <th>year</th>\n",
       "      <th>bedrooms</th>\n",
       "      <th>pool_available</th>\n",
       "      <th>garage</th>\n",
       "    </tr>\n",
       "  </thead>\n",
       "  <tbody>\n",
       "    <tr>\n",
       "      <th>0</th>\n",
       "      <td>234314.144</td>\n",
       "      <td>643.09</td>\n",
       "      <td>2015</td>\n",
       "      <td>1</td>\n",
       "      <td>no</td>\n",
       "      <td>yes</td>\n",
       "    </tr>\n",
       "    <tr>\n",
       "      <th>1</th>\n",
       "      <td>228581.528</td>\n",
       "      <td>656.22</td>\n",
       "      <td>2009</td>\n",
       "      <td>1</td>\n",
       "      <td>no</td>\n",
       "      <td>yes</td>\n",
       "    </tr>\n",
       "    <tr>\n",
       "      <th>2</th>\n",
       "      <td>281626.336</td>\n",
       "      <td>487.29</td>\n",
       "      <td>2018</td>\n",
       "      <td>1</td>\n",
       "      <td>yes</td>\n",
       "      <td>no</td>\n",
       "    </tr>\n",
       "    <tr>\n",
       "      <th>3</th>\n",
       "      <td>401255.608</td>\n",
       "      <td>1504.75</td>\n",
       "      <td>2015</td>\n",
       "      <td>4</td>\n",
       "      <td>no</td>\n",
       "      <td>no</td>\n",
       "    </tr>\n",
       "    <tr>\n",
       "      <th>4</th>\n",
       "      <td>458674.256</td>\n",
       "      <td>1275.46</td>\n",
       "      <td>2009</td>\n",
       "      <td>4</td>\n",
       "      <td>yes</td>\n",
       "      <td>yes</td>\n",
       "    </tr>\n",
       "  </tbody>\n",
       "</table>\n",
       "</div>"
      ],
      "text/plain": [
       "        price     size  year  bedrooms pool_available garage\n",
       "0  234314.144   643.09  2015         1             no    yes\n",
       "1  228581.528   656.22  2009         1             no    yes\n",
       "2  281626.336   487.29  2018         1            yes     no\n",
       "3  401255.608  1504.75  2015         4             no     no\n",
       "4  458674.256  1275.46  2009         4            yes    yes"
      ]
     },
     "execution_count": 27,
     "metadata": {},
     "output_type": "execute_result"
    }
   ],
   "source": [
    "db_house_updated2.head()"
   ]
  },
  {
   "cell_type": "code",
   "execution_count": 28,
   "id": "f674205f",
   "metadata": {},
   "outputs": [],
   "source": [
    "db_house_updated2.to_csv('db_house_update_by_me.csv', index=False)"
   ]
  },
  {
   "cell_type": "code",
   "execution_count": 29,
   "id": "949f0f60",
   "metadata": {},
   "outputs": [],
   "source": [
    "data = pd.read_csv('db_house_update_by_me.csv')"
   ]
  },
  {
   "cell_type": "code",
   "execution_count": 30,
   "id": "d2914fb6",
   "metadata": {
    "scrolled": true
   },
   "outputs": [
    {
     "data": {
      "text/plain": [
       "(         price     size  year  bedrooms pool_available garage\n",
       " 0   234314.144   643.09  2015         1             no    yes\n",
       " 1   228581.528   656.22  2009         1             no    yes\n",
       " 2   281626.336   487.29  2018         1            yes     no\n",
       " 3   401255.608  1504.75  2015         4             no     no\n",
       " 4   458674.256  1275.46  2009         4            yes    yes\n",
       " ..         ...      ...   ...       ...            ...    ...\n",
       " 95  252460.400   549.80  2009         2             no     no\n",
       " 96  310522.592  1037.44  2009         2            yes     no\n",
       " 97  383635.568  1504.75  2006         2            yes     no\n",
       " 98  225145.248   648.29  2015         1             no    yes\n",
       " 99  274922.856   705.29  2006         1            yes     no\n",
       " \n",
       " [100 rows x 6 columns],\n",
       "          price     size  year\n",
       " 0   234314.144   643.09  2015\n",
       " 1   228581.528   656.22  2009\n",
       " 2   281626.336   487.29  2018\n",
       " 3   401255.608  1504.75  2015\n",
       " 4   458674.256  1275.46  2009\n",
       " ..         ...      ...   ...\n",
       " 95  252460.400   549.80  2009\n",
       " 96  310522.592  1037.44  2009\n",
       " 97  383635.568  1504.75  2006\n",
       " 98  225145.248   648.29  2015\n",
       " 99  274922.856   705.29  2006\n",
       " \n",
       " [100 rows x 3 columns])"
      ]
     },
     "execution_count": 30,
     "metadata": {},
     "output_type": "execute_result"
    }
   ],
   "source": [
    "data, db_house_raw"
   ]
  },
  {
   "cell_type": "code",
   "execution_count": 31,
   "id": "ae218104",
   "metadata": {
    "scrolled": true
   },
   "outputs": [
    {
     "data": {
      "text/html": [
       "<div>\n",
       "<style scoped>\n",
       "    .dataframe tbody tr th:only-of-type {\n",
       "        vertical-align: middle;\n",
       "    }\n",
       "\n",
       "    .dataframe tbody tr th {\n",
       "        vertical-align: top;\n",
       "    }\n",
       "\n",
       "    .dataframe thead th {\n",
       "        text-align: right;\n",
       "    }\n",
       "</style>\n",
       "<table border=\"1\" class=\"dataframe\">\n",
       "  <thead>\n",
       "    <tr style=\"text-align: right;\">\n",
       "      <th></th>\n",
       "      <th>price</th>\n",
       "      <th>size</th>\n",
       "      <th>year</th>\n",
       "      <th>bedrooms</th>\n",
       "      <th>pool_available</th>\n",
       "      <th>garage</th>\n",
       "    </tr>\n",
       "  </thead>\n",
       "  <tbody>\n",
       "    <tr>\n",
       "      <th>count</th>\n",
       "      <td>100.000000</td>\n",
       "      <td>100.000000</td>\n",
       "      <td>100.000000</td>\n",
       "      <td>100.000000</td>\n",
       "      <td>100</td>\n",
       "      <td>100</td>\n",
       "    </tr>\n",
       "    <tr>\n",
       "      <th>unique</th>\n",
       "      <td>NaN</td>\n",
       "      <td>NaN</td>\n",
       "      <td>NaN</td>\n",
       "      <td>NaN</td>\n",
       "      <td>2</td>\n",
       "      <td>2</td>\n",
       "    </tr>\n",
       "    <tr>\n",
       "      <th>top</th>\n",
       "      <td>NaN</td>\n",
       "      <td>NaN</td>\n",
       "      <td>NaN</td>\n",
       "      <td>NaN</td>\n",
       "      <td>no</td>\n",
       "      <td>no</td>\n",
       "    </tr>\n",
       "    <tr>\n",
       "      <th>freq</th>\n",
       "      <td>NaN</td>\n",
       "      <td>NaN</td>\n",
       "      <td>NaN</td>\n",
       "      <td>NaN</td>\n",
       "      <td>59</td>\n",
       "      <td>76</td>\n",
       "    </tr>\n",
       "    <tr>\n",
       "      <th>mean</th>\n",
       "      <td>292289.470160</td>\n",
       "      <td>853.024200</td>\n",
       "      <td>2012.600000</td>\n",
       "      <td>2.100000</td>\n",
       "      <td>NaN</td>\n",
       "      <td>NaN</td>\n",
       "    </tr>\n",
       "    <tr>\n",
       "      <th>std</th>\n",
       "      <td>77051.727525</td>\n",
       "      <td>297.941951</td>\n",
       "      <td>4.729021</td>\n",
       "      <td>1.010051</td>\n",
       "      <td>NaN</td>\n",
       "      <td>NaN</td>\n",
       "    </tr>\n",
       "    <tr>\n",
       "      <th>min</th>\n",
       "      <td>154282.128000</td>\n",
       "      <td>479.750000</td>\n",
       "      <td>2006.000000</td>\n",
       "      <td>1.000000</td>\n",
       "      <td>NaN</td>\n",
       "      <td>NaN</td>\n",
       "    </tr>\n",
       "    <tr>\n",
       "      <th>25%</th>\n",
       "      <td>234280.148000</td>\n",
       "      <td>643.330000</td>\n",
       "      <td>2009.000000</td>\n",
       "      <td>1.000000</td>\n",
       "      <td>NaN</td>\n",
       "      <td>NaN</td>\n",
       "    </tr>\n",
       "    <tr>\n",
       "      <th>50%</th>\n",
       "      <td>280590.716000</td>\n",
       "      <td>696.405000</td>\n",
       "      <td>2015.000000</td>\n",
       "      <td>2.000000</td>\n",
       "      <td>NaN</td>\n",
       "      <td>NaN</td>\n",
       "    </tr>\n",
       "    <tr>\n",
       "      <th>75%</th>\n",
       "      <td>335723.696000</td>\n",
       "      <td>1029.322500</td>\n",
       "      <td>2018.000000</td>\n",
       "      <td>3.000000</td>\n",
       "      <td>NaN</td>\n",
       "      <td>NaN</td>\n",
       "    </tr>\n",
       "    <tr>\n",
       "      <th>max</th>\n",
       "      <td>500681.128000</td>\n",
       "      <td>1842.510000</td>\n",
       "      <td>2018.000000</td>\n",
       "      <td>4.000000</td>\n",
       "      <td>NaN</td>\n",
       "      <td>NaN</td>\n",
       "    </tr>\n",
       "  </tbody>\n",
       "</table>\n",
       "</div>"
      ],
      "text/plain": [
       "                price         size         year    bedrooms pool_available  \\\n",
       "count      100.000000   100.000000   100.000000  100.000000            100   \n",
       "unique            NaN          NaN          NaN         NaN              2   \n",
       "top               NaN          NaN          NaN         NaN             no   \n",
       "freq              NaN          NaN          NaN         NaN             59   \n",
       "mean    292289.470160   853.024200  2012.600000    2.100000            NaN   \n",
       "std      77051.727525   297.941951     4.729021    1.010051            NaN   \n",
       "min     154282.128000   479.750000  2006.000000    1.000000            NaN   \n",
       "25%     234280.148000   643.330000  2009.000000    1.000000            NaN   \n",
       "50%     280590.716000   696.405000  2015.000000    2.000000            NaN   \n",
       "75%     335723.696000  1029.322500  2018.000000    3.000000            NaN   \n",
       "max     500681.128000  1842.510000  2018.000000    4.000000            NaN   \n",
       "\n",
       "       garage  \n",
       "count     100  \n",
       "unique      2  \n",
       "top        no  \n",
       "freq       76  \n",
       "mean      NaN  \n",
       "std       NaN  \n",
       "min       NaN  \n",
       "25%       NaN  \n",
       "50%       NaN  \n",
       "75%       NaN  \n",
       "max       NaN  "
      ]
     },
     "execution_count": 31,
     "metadata": {},
     "output_type": "execute_result"
    }
   ],
   "source": [
    "data.describe(include='all')"
   ]
  },
  {
   "cell_type": "code",
   "execution_count": 37,
   "id": "865d38c7",
   "metadata": {},
   "outputs": [],
   "source": [
    "data['pool_available'] =  data['pool_available'].replace(to_replace={'no': 0, 'yes': 1})\n",
    "data['garage'] =  data['garage'].replace(to_replace={'no': 0, 'yes': 1})"
   ]
  },
  {
   "cell_type": "markdown",
   "id": "5470877a",
   "metadata": {},
   "source": [
    "<b>/--------/ *IDEA* /-----/</b><br>\n",
    "    <br>\n",
    "    where there's pool + garage, there maybe set pool to 'common pool'\n",
    "    <br>\n",
    "    "
   ]
  },
  {
   "cell_type": "code",
   "execution_count": 44,
   "id": "bda181ea",
   "metadata": {
    "scrolled": false
   },
   "outputs": [
    {
     "data": {
      "image/png": "[encoded data removed]",
      "text/plain": [
       "<Figure size 640x480 with 2 Axes>"
      ]
     },
     "metadata": {},
     "output_type": "display_data"
    }
   ],
   "source": [
    "import matplotlib.pyplot as plt\n",
    "fig, (ax1, ax2) = plt.subplots(1,2)\n",
    "ax1.scatter(data['bedrooms'], data['price'], c=data['garage'], cmap='rainbow')\n",
    "ax2.scatter(data['bedrooms'], data['price'], c=data['pool_available'], cmap='viridis')\n",
    "ax1.set_title('garage available')\n",
    "ax2.set_title('pool available')\n",
    "plt.subplots_adjust(wspace=0.5)\n",
    "plt.show()"
   ]
  },
  {
   "cell_type": "markdown",
   "id": "6b13e2b9",
   "metadata": {},
   "source": [
    "# Sell Force datas"
   ]
  },
  {
   "cell_type": "code",
   "execution_count": 34,
   "id": "a631f71b",
   "metadata": {
    "scrolled": true
   },
   "outputs": [
    {
     "data": {
      "text/html": [
       "<div>\n",
       "<style scoped>\n",
       "    .dataframe tbody tr th:only-of-type {\n",
       "        vertical-align: middle;\n",
       "    }\n",
       "\n",
       "    .dataframe tbody tr th {\n",
       "        vertical-align: top;\n",
       "    }\n",
       "\n",
       "    .dataframe thead th {\n",
       "        text-align: right;\n",
       "    }\n",
       "</style>\n",
       "<table border=\"1\" class=\"dataframe\">\n",
       "  <thead>\n",
       "    <tr style=\"text-align: right;\">\n",
       "      <th></th>\n",
       "      <th>First Name</th>\n",
       "      <th>Last Name</th>\n",
       "    </tr>\n",
       "  </thead>\n",
       "  <tbody>\n",
       "    <tr>\n",
       "      <th>0</th>\n",
       "      <td>Jack</td>\n",
       "      <td>Olfred</td>\n",
       "    </tr>\n",
       "    <tr>\n",
       "      <th>1</th>\n",
       "      <td>Samuel</td>\n",
       "      <td>Bishop</td>\n",
       "    </tr>\n",
       "    <tr>\n",
       "      <th>2</th>\n",
       "      <td>Ann</td>\n",
       "      <td>Smith</td>\n",
       "    </tr>\n",
       "    <tr>\n",
       "      <th>3</th>\n",
       "      <td>Samantha</td>\n",
       "      <td>Abbedy</td>\n",
       "    </tr>\n",
       "    <tr>\n",
       "      <th>4</th>\n",
       "      <td>Bill</td>\n",
       "      <td>Cosby</td>\n",
       "    </tr>\n",
       "  </tbody>\n",
       "</table>\n",
       "</div>"
      ],
      "text/plain": [
       "  First Name Last Name\n",
       "0       Jack    Olfred\n",
       "1     Samuel    Bishop\n",
       "2        Ann     Smith\n",
       "3   Samantha    Abbedy\n",
       "4       Bill     Cosby"
      ]
     },
     "execution_count": 34,
     "metadata": {},
     "output_type": "execute_result"
    }
   ],
   "source": [
    "salesforce = pd.DataFrame()\n",
    "salesforce['First Name'] = ['Jack', 'Samuel', 'Ann', 'Samantha', 'Bill' ]\n",
    "salesforce['Last Name'] = ['Olfred', 'Bishop', 'Smith', 'Abbedy', 'Cosby']\n",
    "salesforce"
   ]
  },
  {
   "cell_type": "code",
   "execution_count": 35,
   "id": "b60cef47",
   "metadata": {
    "scrolled": true
   },
   "outputs": [
    {
     "data": {
      "text/html": [
       "<div>\n",
       "<style scoped>\n",
       "    .dataframe tbody tr th:only-of-type {\n",
       "        vertical-align: middle;\n",
       "    }\n",
       "\n",
       "    .dataframe tbody tr th {\n",
       "        vertical-align: top;\n",
       "    }\n",
       "\n",
       "    .dataframe thead th {\n",
       "        text-align: right;\n",
       "    }\n",
       "</style>\n",
       "<table border=\"1\" class=\"dataframe\">\n",
       "  <thead>\n",
       "    <tr style=\"text-align: right;\">\n",
       "      <th></th>\n",
       "      <th>First Name</th>\n",
       "      <th>Last Name</th>\n",
       "      <th>employeeID</th>\n",
       "    </tr>\n",
       "  </thead>\n",
       "  <tbody>\n",
       "    <tr>\n",
       "      <th>0</th>\n",
       "      <td>Jack</td>\n",
       "      <td>Olfred</td>\n",
       "      <td>1001</td>\n",
       "    </tr>\n",
       "    <tr>\n",
       "      <th>1</th>\n",
       "      <td>Samuel</td>\n",
       "      <td>Bishop</td>\n",
       "      <td>1002</td>\n",
       "    </tr>\n",
       "    <tr>\n",
       "      <th>2</th>\n",
       "      <td>Ann</td>\n",
       "      <td>Smith</td>\n",
       "      <td>1003</td>\n",
       "    </tr>\n",
       "    <tr>\n",
       "      <th>3</th>\n",
       "      <td>Samantha</td>\n",
       "      <td>Abbedy</td>\n",
       "      <td>1004</td>\n",
       "    </tr>\n",
       "    <tr>\n",
       "      <th>4</th>\n",
       "      <td>Bill</td>\n",
       "      <td>Cosby</td>\n",
       "      <td>1005</td>\n",
       "    </tr>\n",
       "  </tbody>\n",
       "</table>\n",
       "</div>"
      ],
      "text/plain": [
       "  First Name Last Name  employeeID\n",
       "0       Jack    Olfred        1001\n",
       "1     Samuel    Bishop        1002\n",
       "2        Ann     Smith        1003\n",
       "3   Samantha    Abbedy        1004\n",
       "4       Bill     Cosby        1005"
      ]
     },
     "execution_count": 35,
     "metadata": {},
     "output_type": "execute_result"
    }
   ],
   "source": [
    "salesforce['employeeID'] = [1001, 1002, 1003, 1004,1005]\n",
    "salesforce"
   ]
  },
  {
   "cell_type": "code",
   "execution_count": null,
   "id": "9dd33d48",
   "metadata": {},
   "outputs": [],
   "source": []
  }
 ],
 "metadata": {
  "kernelspec": {
   "display_name": "Python 3 (ipykernel)",
   "language": "python",
   "name": "python3"
  },
  "language_info": {
   "codemirror_mode": {
    "name": "ipython",
    "version": 3
   },
   "file_extension": ".py",
   "mimetype": "text/x-python",
   "name": "python",
   "nbconvert_exporter": "python",
   "pygments_lexer": "ipython3",
   "version": "3.9.13"
  }
 },
 "nbformat": 4,
 "nbformat_minor": 5
}
